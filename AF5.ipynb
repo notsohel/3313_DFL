{
  "nbformat": 4,
  "nbformat_minor": 0,
  "metadata": {
    "colab": {
      "name": "AndroidFake5.ipynb",
      "provenance": [],
      "include_colab_link": true
    },
    "kernelspec": {
      "name": "python3",
      "display_name": "Python 3"
    },
    "language_info": {
      "name": "python"
    },
    "accelerator": "GPU"
  },
  "cells": [
    {
      "cell_type": "markdown",
      "metadata": {
        "id": "view-in-github",
        "colab_type": "text"
      },
      "source": [
        "<a href=\"https://colab.research.google.com/github/notsohel/3313_DFL/blob/master/AF5.ipynb\" target=\"_parent\"><img src=\"https://colab.research.google.com/assets/colab-badge.svg\" alt=\"Open In Colab\"/></a>"
      ]
    },
    {
      "cell_type": "markdown",
      "metadata": {
        "id": "C-rGEUkah-T9"
      },
      "source": [
        "# ***GPU***"
      ]
    },
    {
      "cell_type": "code",
      "metadata": {
        "id": "zQsrEvURjP4L"
      },
      "source": [
        "import IPython\n",
        "from google.colab import output\n",
        "\n",
        "display(IPython.display.Javascript('''\n",
        " function ClickConnect(){\n",
        "   btn = document.querySelector(\"colab-connect-button\")\n",
        "   if (btn != null){\n",
        "     console.log(\"Click colab-connect-button\"); \n",
        "     btn.click() \n",
        "     }\n",
        "   \n",
        "   btn = document.getElementById('ok')\n",
        "   if (btn != null){\n",
        "     console.log(\"Click reconnect\"); \n",
        "     btn.click() \n",
        "     }\n",
        "  }\n",
        "  \n",
        "setInterval(ClickConnect,60000)\n",
        "'''))\n",
        "\n",
        "print(\"Done.\")\n",
        "\n",
        "!nvidia-smi"
      ],
      "execution_count": null,
      "outputs": []
    },
    {
      "cell_type": "markdown",
      "metadata": {
        "id": "7r7pMZGoCRn4"
      },
      "source": [
        "# ***Drive***"
      ]
    },
    {
      "cell_type": "code",
      "metadata": {
        "id": "lw8zKGEoDJ84"
      },
      "source": [
        "from google.colab import drive\n",
        "drive._mount('/content/drive')"
      ],
      "execution_count": null,
      "outputs": []
    },
    {
      "cell_type": "markdown",
      "metadata": {
        "id": "u8gT-3mNiKZ1"
      },
      "source": [
        "# **Install**"
      ]
    },
    {
      "cell_type": "code",
      "metadata": {
        "id": "JG-f2WqT4fLK"
      },
      "source": [
        "!pip install colorama "
      ],
      "execution_count": null,
      "outputs": []
    },
    {
      "cell_type": "code",
      "metadata": {
        "id": "ACEO-khC9kmk"
      },
      "source": [
        "!pip install ffmpeg-python"
      ],
      "execution_count": null,
      "outputs": []
    },
    {
      "cell_type": "markdown",
      "metadata": {
        "id": "pUL7SvRlij0E"
      },
      "source": [
        "# **Train**"
      ]
    },
    {
      "cell_type": "code",
      "metadata": {
        "id": "Ksz-66MCj-I6"
      },
      "source": [
        "Silent_Start = True \n",
        "x = \"/content/drive/Shareddrives/Derp3313/workspazzz/\"\n",
        "y = \"jill\" #@param {type:\"string\"}\n",
        "t = x+y\n",
        "\n",
        "%cd \"/content/drive/Shareddrives/Derp3313/DeepFaceLab/_internal\"\n",
        "\n",
        "import psutil, os, time\n",
        "\n",
        "p = psutil.Process(os.getpid())\n",
        "uptime = time.time() - p.create_time()\n",
        "   \n",
        "z = \"DeepFaceLab/main.py train --training-data-src-dir \" +t+ \"/data_src/aligned --training-data-dst-dir \" +t+ \"/data_dst/aligned --pretraining-data-dir pretrain --model-dir \" +t+ \"/model --model SAEHD\"\n",
        "cmd = (z)\n",
        "if Silent_Start:\n",
        "  cmd+= \" --silent-start\"\n",
        "  train_cmd = (cmd)\n",
        "\n",
        "!python $train_cmd"
      ],
      "execution_count": null,
      "outputs": []
    },
    {
      "cell_type": "code",
      "metadata": {
        "id": "qIk4_t8ex7Fh"
      },
      "source": [
        ""
      ],
      "execution_count": null,
      "outputs": []
    },
    {
      "cell_type": "markdown",
      "metadata": {
        "id": "clv_6dDpZcwW"
      },
      "source": [
        "# ***Face***"
      ]
    },
    {
      "cell_type": "code",
      "metadata": {
        "id": "vV8l46gNZbZo"
      },
      "source": [
        "#@title Detect faces\n",
        "Data = \"data_dst\" #@param [\"data_src\", \"data_dst\"]\n",
        "Detector = \"S3FD (whole face)\" #@param [\"S3FD\", \"S3FD (whole face)\"]\n",
        "Debug = False #@param {type:\"boolean\"}\n",
        "\n",
        "detect_type = \"s3fd\"\n",
        "dbg = \" --output-debug\" if Debug else \" --no-output-debug\"\n",
        "\n",
        "folder = \"/content/drive/Shareddrives/Derp3313/workspazzz/Kiara/\"+Data\n",
        "folder_aligned = folder+\"/aligned\"\n",
        "\n",
        "cmd = \"DeepFaceLab/main.py extract --input-dir \"+folder+\" --output-dir \"+folder_aligned\n",
        "cmd+=\" --detector \"+detect_type+\" --force-gpu-idxs 0\"+dbg\n",
        "\n",
        "if \"whole face\" in Detector:\n",
        "  cmd+=\" --face-type whole_face\" \n",
        "%cd \"/content/drive/Shareddrives/Derp3313/DeepFaceLab/_internal\"\n",
        "!python $cmd"
      ],
      "execution_count": null,
      "outputs": []
    },
    {
      "cell_type": "markdown",
      "metadata": {
        "id": "do6xydfaQGBY"
      },
      "source": [
        "# **Pack**"
      ]
    },
    {
      "cell_type": "code",
      "metadata": {
        "id": "JBvCwQ8vQI3v"
      },
      "source": [
        "#@title Pack/Unpack aligned faceset\n",
        "\n",
        "Folder = \"data_dst\" #@param [\"data_src\", \"data_dst\"]\n",
        "Mode = \"pack\" #@param [\"pack\", \"unpack\"]\n",
        "\n",
        "cmd = \"/content/drive/Shareddrives/Derp3313/DeepFaceLab/_internal/DeepFaceLab/main.py util --input-dir /content/drive/Shareddrives/Derp3313/workspazzz/aayat/\" + \\\n",
        "      f\"{Folder}/aligned --{Mode}-faceset\"\n",
        "\n",
        "!python $cmd"
      ],
      "execution_count": null,
      "outputs": []
    },
    {
      "cell_type": "markdown",
      "metadata": {
        "id": "8nlOeObPio0c"
      },
      "source": [
        "# **Backup**"
      ]
    },
    {
      "cell_type": "code",
      "metadata": {
        "id": "OSSPOwX2kfSZ"
      },
      "source": [
        "#model\n",
        "!zip -r /content/drive/Shareddrives/Derp3313/MBackup/model.zip  /content/drive/Shareddrives/Derp3313/workspace/model"
      ],
      "execution_count": null,
      "outputs": []
    },
    {
      "cell_type": "code",
      "metadata": {
        "id": "TVD5rU5i4W1z"
      },
      "source": [
        "#workspace\n",
        "!zip -r /content/drive/Shareddrives/Derp3313/Backup_workspace/workspace.zip  /content/drive/Shareddrives/Derp3313/workspace/"
      ],
      "execution_count": null,
      "outputs": []
    },
    {
      "cell_type": "markdown",
      "metadata": {
        "id": "2ChaWB-hrQFC"
      },
      "source": [
        "# **merge**"
      ]
    },
    {
      "cell_type": "code",
      "metadata": {
        "id": "YTkHXIKtyjom"
      },
      "source": [
        "x = \"/content/drive/Shareddrives/Derp3313/\"\n",
        "y = \"workspace\" #@param {type:\"string\"}\n",
        "t = x+y\n",
        "cmd = (z)\n",
        "z =\"DeepFaceLab/main.py merge --input-dir \"x+y\"/data_dst --output-dir \"x+y\"/data_dst/merged --output-mask-dir \"x+y\"/data_dst/merged_mask --aligned-dir \"x+y\"/data_dst/aligned --model-dir \"x+y\"/model --model SAEHD\"\n",
        "%cd \"/content/drive/Shareddrives/Derp3313/DeepFaceLab/_internal\"\n",
        "!python $cmd"
      ],
      "execution_count": null,
      "outputs": []
    },
    {
      "cell_type": "code",
      "metadata": {
        "id": "uPD1MHF-7DJW"
      },
      "source": [
        ""
      ],
      "execution_count": null,
      "outputs": []
    },
    {
      "cell_type": "markdown",
      "metadata": {
        "id": "mb4sJ51191oo"
      },
      "source": [
        "# **videoed**"
      ]
    },
    {
      "cell_type": "code",
      "metadata": {
        "id": "ApXzhI9R-WmR"
      },
      "source": [
        "!python /content/a/Shareddrives/Derp3313/DeepFaceLab/_internal/DeepFaceLab/main.py videoed video-from-sequence --input-dir /content/a/Shareddrives/Derp3313/workspazzz/aayat/model/skmog_SAEHD_history/SAEHD --output-file /content/result.mp4\n"
      ],
      "execution_count": null,
      "outputs": []
    },
    {
      "cell_type": "markdown",
      "metadata": {
        "id": "G0K8jgNw7EPP"
      },
      "source": [
        "# ***Dog***"
      ]
    },
    {
      "cell_type": "code",
      "metadata": {
        "id": "1IykpxpV7M7z"
      },
      "source": [
        "src=\"/content/drive/Shareddrives/Derp3313/Rename.zip\" #@param {type:\"string\"}\n",
        "dst=\"/content/drive/Shareddrives/Derp3313/test\" #@param {type:\"string\"}\n",
        "a= \"\"+src+\"\" \n",
        "b= \"\"+dst+\"\"\n",
        "cmd= \"!unrar x \"+a+b+\"\"\n",
        "!unrar x \"\"+src+\"\" \"\"+dst+\"\""
      ],
      "execution_count": null,
      "outputs": []
    }
  ]
}