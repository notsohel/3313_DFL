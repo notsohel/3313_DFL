{
  "nbformat": 4,
  "nbformat_minor": 0,
  "metadata": {
    "colab": {
      "name": "AndroidFake5.ipynb",
      "provenance": [],
      "include_colab_link": true
    },
    "kernelspec": {
      "name": "python3",
      "display_name": "Python 3"
    },
    "language_info": {
      "name": "python"
    }
  },
  "cells": [
    {
      "cell_type": "markdown",
      "metadata": {
        "id": "view-in-github",
        "colab_type": "text"
      },
      "source": [
        "<a href=\"https://colab.research.google.com/github/notsohel/3313_DFL/blob/master/AF5.ipynb\" target=\"_parent\"><img src=\"https://colab.research.google.com/assets/colab-badge.svg\" alt=\"Open In Colab\"/></a>"
      ]
    },
    {
      "cell_type": "markdown",
      "metadata": {
        "id": "C-rGEUkah-T9"
      },
      "source": [
        "# ***GPU***"
      ]
    },
    {
      "cell_type": "code",
      "metadata": {
        "id": "zQsrEvURjP4L",
        "colab": {
          "base_uri": "https://localhost:8080/",
          "height": 0
        },
        "outputId": "84c31e02-3a07-4745-dabf-559640fc1612"
      },
      "source": [
        "import IPython\n",
        "from google.colab import output\n",
        "\n",
        "display(IPython.display.Javascript('''\n",
        " function ClickConnect(){\n",
        "   btn = document.querySelector(\"colab-connect-button\")\n",
        "   if (btn != null){\n",
        "     console.log(\"Click colab-connect-button\"); \n",
        "     btn.click() \n",
        "     }\n",
        "   \n",
        "   btn = document.getElementById('ok')\n",
        "   if (btn != null){\n",
        "     console.log(\"Click reconnect\"); \n",
        "     btn.click() \n",
        "     }\n",
        "  }\n",
        "  \n",
        "setInterval(ClickConnect,60000)\n",
        "'''))\n",
        "\n",
        "print(\"Done.\")\n",
        "\n",
        "!nvidia-smi"
      ],
      "execution_count": 1,
      "outputs": [
        {
          "output_type": "display_data",
          "data": {
            "application/javascript": [
              "\n",
              " function ClickConnect(){\n",
              "   btn = document.querySelector(\"colab-connect-button\")\n",
              "   if (btn != null){\n",
              "     console.log(\"Click colab-connect-button\"); \n",
              "     btn.click() \n",
              "     }\n",
              "   \n",
              "   btn = document.getElementById('ok')\n",
              "   if (btn != null){\n",
              "     console.log(\"Click reconnect\"); \n",
              "     btn.click() \n",
              "     }\n",
              "  }\n",
              "  \n",
              "setInterval(ClickConnect,60000)\n"
            ],
            "text/plain": [
              "<IPython.core.display.Javascript object>"
            ]
          },
          "metadata": {}
        },
        {
          "output_type": "stream",
          "name": "stdout",
          "text": [
            "Done.\n",
            "Tue Oct 26 08:53:47 2021       \n",
            "+-----------------------------------------------------------------------------+\n",
            "| NVIDIA-SMI 470.74       Driver Version: 460.32.03    CUDA Version: 11.2     |\n",
            "|-------------------------------+----------------------+----------------------+\n",
            "| GPU  Name        Persistence-M| Bus-Id        Disp.A | Volatile Uncorr. ECC |\n",
            "| Fan  Temp  Perf  Pwr:Usage/Cap|         Memory-Usage | GPU-Util  Compute M. |\n",
            "|                               |                      |               MIG M. |\n",
            "|===============================+======================+======================|\n",
            "|   0  Tesla K80           Off  | 00000000:00:04.0 Off |                    0 |\n",
            "| N/A   34C    P8    28W / 149W |      0MiB / 11441MiB |      0%      Default |\n",
            "|                               |                      |                  N/A |\n",
            "+-------------------------------+----------------------+----------------------+\n",
            "                                                                               \n",
            "+-----------------------------------------------------------------------------+\n",
            "| Processes:                                                                  |\n",
            "|  GPU   GI   CI        PID   Type   Process name                  GPU Memory |\n",
            "|        ID   ID                                                   Usage      |\n",
            "|=============================================================================|\n",
            "|  No running processes found                                                 |\n",
            "+-----------------------------------------------------------------------------+\n"
          ]
        }
      ]
    },
    {
      "cell_type": "markdown",
      "metadata": {
        "id": "7r7pMZGoCRn4"
      },
      "source": [
        "# ***Drive***"
      ]
    },
    {
      "cell_type": "code",
      "metadata": {
        "id": "dQywuZBFCXBw",
        "colab": {
          "base_uri": "https://localhost:8080/"
        },
        "outputId": "5c5a19b2-1d32-4f83-e44d-440e6a707342"
      },
      "source": [
        "from google.colab import drive\n",
        "drive.mount('/content/drive')"
      ],
      "execution_count": 2,
      "outputs": [
        {
          "output_type": "stream",
          "name": "stdout",
          "text": [
            "Mounted at /content/drive\n"
          ]
        }
      ]
    },
    {
      "cell_type": "markdown",
      "metadata": {
        "id": "u8gT-3mNiKZ1"
      },
      "source": [
        "# **Install**"
      ]
    },
    {
      "cell_type": "code",
      "metadata": {
        "id": "JG-f2WqT4fLK",
        "colab": {
          "base_uri": "https://localhost:8080/"
        },
        "outputId": "b5e35aa3-e67a-4833-e914-26702a3a4681"
      },
      "source": [
        "!pip install colorama "
      ],
      "execution_count": 3,
      "outputs": [
        {
          "output_type": "stream",
          "name": "stdout",
          "text": [
            "Collecting colorama\n",
            "  Downloading colorama-0.4.4-py2.py3-none-any.whl (16 kB)\n",
            "Installing collected packages: colorama\n",
            "Successfully installed colorama-0.4.4\n"
          ]
        }
      ]
    },
    {
      "cell_type": "markdown",
      "metadata": {
        "id": "pUL7SvRlij0E"
      },
      "source": [
        "# **Train**"
      ]
    },
    {
      "cell_type": "code",
      "metadata": {
        "id": "Ksz-66MCj-I6"
      },
      "source": [
        "Silent_Start = True \n",
        "x = \"/content/drive/Shareddrives/Derp3313/\"\n",
        "y = \"workspace\" #@param {type:\"string\"}\n",
        "t = x+y\n",
        "\n",
        "%cd \"/content/drive/Shareddrives/Derp3313/DeepFaceLab/_internal\"\n",
        "\n",
        "import psutil, os, time\n",
        "\n",
        "p = psutil.Process(os.getpid())\n",
        "uptime = time.time() - p.create_time()\n",
        "   \n",
        "z = \"DeepFaceLab/main.py train --training-data-src-dir \" +t+ \"/data_src/aligned --training-data-dst-dir \" +t+ \"/data_dst/aligned --pretraining-data-dir pretrain --model-dir \" +t+ \"/model --model SAEHD\"\n",
        "cmd = (z)\n",
        "if Silent_Start:\n",
        "  cmd+= \" --silent-start\"\n",
        "  train_cmd = (cmd)\n",
        "\n",
        "!python $train_cmd"
      ],
      "execution_count": null,
      "outputs": []
    },
    {
      "cell_type": "code",
      "metadata": {
        "id": "qIk4_t8ex7Fh"
      },
      "source": [
        "x = \"/content/drive/Shareddrives/Derp3313/\"\n",
        "y = \"workspace\"\n",
        "t = x+y\n",
        "z = \"DeepFaceLab/main.py train --training-data-src-dir \" +t+ \"/data_src/aligned --training-data-dst-dir \" +t+ \"/data_dst/aligned --pretraining-data-dir pretrain --model-dir \" +t+ \"/model --model SAEHD\"\n",
        "print(z)"
      ],
      "execution_count": null,
      "outputs": []
    },
    {
      "cell_type": "markdown",
      "metadata": {
        "id": "8nlOeObPio0c"
      },
      "source": [
        "# **Backup**"
      ]
    },
    {
      "cell_type": "code",
      "metadata": {
        "id": "OSSPOwX2kfSZ"
      },
      "source": [
        "#model\n",
        "!zip -r /content/drive/Shareddrives/Derp3313/MBackup/model.zip  /content/drive/Shareddrives/Derp3313/workspace/model"
      ],
      "execution_count": null,
      "outputs": []
    },
    {
      "cell_type": "code",
      "metadata": {
        "id": "TVD5rU5i4W1z"
      },
      "source": [
        "#workspace\n",
        "!zip -r /content/drive/Shareddrives/Derp3313/Backup_workspace/workspace.zip  /content/drive/Shareddrives/Derp3313/workspace/"
      ],
      "execution_count": null,
      "outputs": []
    },
    {
      "cell_type": "markdown",
      "metadata": {
        "id": "2ChaWB-hrQFC"
      },
      "source": [
        "# **merge**"
      ]
    },
    {
      "cell_type": "code",
      "metadata": {
        "id": "YTkHXIKtyjom"
      },
      "source": [
        "x = \"/content/drive/Shareddrives/Derp3313/\"\n",
        "y = \"workspace\" #@param {type:\"string\"}\n",
        "t = x+y\n",
        "cmd = (z)\n",
        "z =\"DeepFaceLab/main.py merge --input-dir \"x+y\"/data_dst --output-dir \"x+y\"/data_dst/merged --output-mask-dir \"x+y\"/data_dst/merged_mask --aligned-dir \"x+y\"/data_dst/aligned --model-dir \"x+y\"/model --model SAEHD\"\n",
        "%cd \"/content/drive/Shareddrives/Derp3313/DeepFaceLab/_internal\"\n",
        "!python $cmd"
      ],
      "execution_count": null,
      "outputs": []
    },
    {
      "cell_type": "code",
      "metadata": {
        "id": "uPD1MHF-7DJW"
      },
      "source": [
        ""
      ],
      "execution_count": null,
      "outputs": []
    },
    {
      "cell_type": "markdown",
      "metadata": {
        "id": "G0K8jgNw7EPP"
      },
      "source": [
        "# ***Dog***"
      ]
    },
    {
      "cell_type": "code",
      "metadata": {
        "id": "1IykpxpV7M7z",
        "colab": {
          "base_uri": "https://localhost:8080/"
        },
        "outputId": "1e0d175d-7d0d-4fde-c2e0-00db18447164"
      },
      "source": [
        "src=\"/content/drive/Shareddrives/Derp3313/Rename.zip\" #@param {type:\"string\"}\n",
        "dst=\"/content/drive/Shareddrives/Derp3313/test\" #@param {type:\"string\"}\n",
        "a= \"\"+src+\"\" \n",
        "b= \"\"+dst+\"\"\n",
        "cmd= \"!unrar x \"+a+b+\"\"\n",
        "!unrar x \"\"+src+\"\" \"\"+dst+\"\""
      ],
      "execution_count": 20,
      "outputs": [
        {
          "output_type": "stream",
          "name": "stdout",
          "text": [
            "\n",
            "UNRAR 5.50 freeware      Copyright (c) 1993-2017 Alexander Roshal\n",
            "\n",
            "Cannot open +src+.rar\n",
            "No such file or directory\n",
            "No files to extract\n"
          ]
        }
      ]
    }
  ]
}
