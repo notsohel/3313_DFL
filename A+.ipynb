{
  "nbformat": 4,
  "nbformat_minor": 0,
  "metadata": {
    "colab": {
      "name": "A+.ipynb",
      "provenance": [],
      "include_colab_link": true
    },
    "kernelspec": {
      "name": "python3",
      "display_name": "Python 3"
    },
    "language_info": {
      "name": "python"
    }
  },
  "cells": [
    {
      "cell_type": "markdown",
      "metadata": {
        "id": "view-in-github",
        "colab_type": "text"
      },
      "source": [
        "<a href=\"https://colab.research.google.com/github/notsohel/3313_DFL/blob/master/A%2B.ipynb\" target=\"_parent\"><img src=\"https://colab.research.google.com/assets/colab-badge.svg\" alt=\"Open In Colab\"/></a>"
      ]
    },
    {
      "cell_type": "markdown",
      "metadata": {
        "id": "7r7pMZGoCRn4"
      },
      "source": [
        "# ***Drive***"
      ]
    },
    {
      "cell_type": "code",
      "source": [
        "!nvidia-smi"
      ],
      "metadata": {
        "id": "wLfBcedxyyNT"
      },
      "execution_count": null,
      "outputs": []
    },
    {
      "cell_type": "code",
      "metadata": {
        "id": "lw8zKGEoDJ84"
      },
      "source": [
        "from google.colab import drive\n",
        "drive.mount('/content/drive')"
      ],
      "execution_count": null,
      "outputs": []
    },
    {
      "cell_type": "markdown",
      "metadata": {
        "id": "C-rGEUkah-T9"
      },
      "source": [
        "## ***GPU***"
      ]
    },
    {
      "cell_type": "code",
      "metadata": {
        "id": "zQsrEvURjP4L"
      },
      "source": [
        "import IPython\n",
        "from google.colab import output\n",
        "\n",
        "display(IPython.display.Javascript('''\n",
        " function ClickConnect(){\n",
        "   btn = document.querySelector(\"colab-connect-button\")\n",
        "   if (btn != null){\n",
        "     console.log(\"Click colab-connect-button\"); \n",
        "     btn.click() \n",
        "     }\n",
        "   \n",
        "   btn = document.getElementById('ok')\n",
        "   if (btn != null){\n",
        "     console.log(\"Click reconnect\"); \n",
        "     btn.click() \n",
        "     }\n",
        "  }\n",
        "  \n",
        "setInterval(ClickConnect,60000)\n",
        "'''))\n",
        "\n",
        "print(\"Done.\")\n",
        "\n",
        "!pip install colorama "
      ],
      "execution_count": null,
      "outputs": []
    },
    {
      "cell_type": "markdown",
      "source": [
        "# **Setup**"
      ],
      "metadata": {
        "id": "tt8Slk-dhSlJ"
      }
    },
    {
      "cell_type": "code",
      "source": [
        "!unzip -qq /content/drive/Shareddrives/DFL/dfl.zip -d /content/"
      ],
      "metadata": {
        "id": "pEwGWwcCoP0G"
      },
      "execution_count": null,
      "outputs": []
    },
    {
      "cell_type": "code",
      "source": [
        "##DFL 2 MyDrive\n",
        "too = True #@param {type:\"boolean\"}\n",
        "x=\"skn\" #@param {type:\"string\"}\n",
        "y = \"L\" #@param [\"\", \"D\", \"L\", \"A\"]\n",
        "m=\"model\"+y+\"\"\n",
        "t=\"/content/drive/MyDrive/ws\"\n",
        "!mkdir \"$t\" \"$t/$x\" \"$t/$x/$m\"\n",
        "%cd /content/drive/Shareddrives/DFL/ws/$x/\n",
        "if not too:\n",
        "  !cp -r $m/*.npy $m/*.dat -t \"$t/$x/$m\"\n",
        "else:\n",
        "  !echo \n",
        "!cp -r data_dst data_src  -t /content/\n"
      ],
      "metadata": {
        "id": "fgWckE5QoNvS"
      },
      "execution_count": null,
      "outputs": []
    },
    {
      "cell_type": "code",
      "source": [
        "##OLD\n",
        "x=\"skn\" #@param {type:\"string\"}\n",
        "y=\"\" #@param [\"\", \"D\", \"L\", \"A\"]\n",
        "m=\"model\"+y+\"\"\n",
        "t=\"/content/drive/Shareddrives/DFL/ws\"\n",
        "%cd /content/drive/MyDrive/ws/$x/\n",
        "!cp -r $m -t \"$t/$x\"\n",
        "!rm -r $m"
      ],
      "metadata": {
        "id": "WkiBGy--5YpP"
      },
      "execution_count": null,
      "outputs": []
    },
    {
      "cell_type": "markdown",
      "metadata": {
        "id": "pUL7SvRlij0E"
      },
      "source": [
        "# **Train**"
      ]
    },
    {
      "cell_type": "code",
      "metadata": {
        "id": "Ksz-66MCj-I6"
      },
      "source": [
        "x = \"/content/drive/MyDrive/ws/\"\n",
        "y = \"skn\" #@param {type:\"string\"}\n",
        "z = \"L\" #@param [\"\", \"D\", \"L\", \"A\"]\n",
        "m = \"\"+x+y+\"/model\"+z+\"\"\n",
        "t = \"/content\"\n",
        "\n",
        "%cd \"/content/\"\n",
        "  \n",
        "z = \"DeepFaceLab/main.py train --training-data-src-dir \" +t+ \"/data_src/aligned --training-data-dst-dir \" +t+ \"/data_dst/aligned --pretraining-data-dir pretrain --model-dir \" +m+ \" --model SAEHD --silent-start \"\n",
        "cmd = (z)\n",
        "\n",
        "!python $cmd"
      ],
      "execution_count": null,
      "outputs": []
    },
    {
      "cell_type": "code",
      "metadata": {
        "id": "qIk4_t8ex7Fh"
      },
      "source": [
        ""
      ],
      "execution_count": null,
      "outputs": []
    },
    {
      "cell_type": "markdown",
      "source": [
        "# **Save**"
      ],
      "metadata": {
        "id": "yA9DPSQuMNI5"
      }
    },
    {
      "cell_type": "code",
      "source": [
        "##DFL to MyDrive \n",
        "x=\"skn\" #@param {type:\"string\"} \n",
        "y=\"D\" #@param [\"\", \"D\", \"L\", \"A\"] \n",
        "m=\"model\"+y+\"\"\n",
        "t=\"/content/drive/Shareddrives/DFL/ws\"\n",
        "%cd /content/drive/MyDrive/ws/$x/\n",
        "!cp -r $m -t \"$t/$x\"\n",
        "!rm -r $m"
      ],
      "metadata": {
        "id": "Ec1o276cMQx4"
      },
      "execution_count": null,
      "outputs": []
    },
    {
      "cell_type": "code",
      "source": [
        "##Zip trash\n",
        "t = \"M\" #@param [\"H\", \"M\"]\n",
        "x=\"skn\" #@param {type:\"string\"} \n",
        "y=\"D\" #@param [\"\", \"D\", \"L\", \"A\"]\n",
        "z=\"100k\" #@param {type:\"string\"} \n",
        "z+=\".zip\"\n",
        "m=\"model\"+y+\"\"\n",
        "%cd /content/drive/MyDrive/ws/$x/$m/\n",
        "!zip -0 -r -q $z /content/drive/Shareddrives/DFL/ws/$x/$m/"
      ],
      "metadata": {
        "id": "1b3mL90e1gnQ"
      },
      "execution_count": null,
      "outputs": []
    }
  ]
}