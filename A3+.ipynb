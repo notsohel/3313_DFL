{
  "nbformat": 4,
  "nbformat_minor": 0,
  "metadata": {
    "colab": {
      "name": "A3+.ipynb",
      "provenance": [],
      "include_colab_link": true
    },
    "kernelspec": {
      "name": "python3",
      "display_name": "Python 3"
    },
    "language_info": {
      "name": "python"
    },
    "accelerator": "GPU"
  },
  "cells": [
    {
      "cell_type": "markdown",
      "metadata": {
        "id": "view-in-github",
        "colab_type": "text"
      },
      "source": [
        "<a href=\"https://colab.research.google.com/github/notsohel/3313_DFL/blob/master/A3%2B.ipynb\" target=\"_parent\"><img src=\"https://colab.research.google.com/assets/colab-badge.svg\" alt=\"Open In Colab\"/></a>"
      ]
    },
    {
      "cell_type": "markdown",
      "metadata": {
        "id": "7r7pMZGoCRn4"
      },
      "source": [
        "# ***Drive***"
      ]
    },
    {
      "cell_type": "code",
      "source": [
        "!nvidia-smi -L"
      ],
      "metadata": {
        "id": "wLfBcedxyyNT"
      },
      "execution_count": null,
      "outputs": []
    },
    {
      "cell_type": "code",
      "metadata": {
        "id": "lw8zKGEoDJ84"
      },
      "source": [
        "from google.colab import drive\n",
        "drive.mount('/content/drive')"
      ],
      "execution_count": null,
      "outputs": []
    },
    {
      "cell_type": "markdown",
      "metadata": {
        "id": "C-rGEUkah-T9"
      },
      "source": [
        "## ***GPU***"
      ]
    },
    {
      "cell_type": "code",
      "metadata": {
        "id": "zQsrEvURjP4L"
      },
      "source": [
        "import IPython\n",
        "from google.colab import output\n",
        "\n",
        "display(IPython.display.Javascript('''\n",
        " function ClickConnect(){\n",
        "   btn = document.querySelector(\"colab-connect-button\")\n",
        "   if (btn != null){\n",
        "     console.log(\"Click colab-connect-button\"); \n",
        "     btn.click() \n",
        "     }\n",
        "   \n",
        "   btn = document.getElementById('ok')\n",
        "   if (btn != null){\n",
        "     console.log(\"Click reconnect\"); \n",
        "     btn.click() \n",
        "     }\n",
        "  }\n",
        "  \n",
        "setInterval(ClickConnect,60000)\n",
        "'''))\n",
        "\n",
        "print(\"Done.\")\n",
        "!pip install colorama "
      ],
      "execution_count": null,
      "outputs": []
    },
    {
      "cell_type": "markdown",
      "source": [
        "# **Setup**"
      ],
      "metadata": {
        "id": "tt8Slk-dhSlJ"
      }
    },
    {
      "cell_type": "code",
      "source": [
        "ME = True #@param {type:\"boolean\"}\n",
        "if ME:\n",
        "  !git clone https://github.com/MachineEditor/DeepFaceLab.git\n",
        "  !pip uninstall -y tensorflow\n",
        "  !pip install -r ./DeepFaceLab/requirements-colab.txt\n",
        "  !pip install --upgrade scikit-image\n",
        "  !apt-get install cuda-10-0\n",
        "else:\n",
        "  !7z x /content/drive/Shareddrives/DFL/dfl.zip -o/content/ -mmt"
      ],
      "metadata": {
        "id": "4SRqiaXo0Zls"
      },
      "execution_count": null,
      "outputs": []
    },
    {
      "cell_type": "code",
      "source": [
        "##DFL ttoo MyDrive\n",
        "data = True #@param {type:\"boolean\"}\n",
        "model = True #@param {type:\"boolean\"}\n",
        "x=\"dhan\" #@param {type:\"string\"}\n",
        "y = \"\" #@param [\"\", \"D\", \"L\", \"A\"]\n",
        "z=\".zip\"\n",
        "m=\"model\"+y+\"\"\n",
        "D=\"/content/drive/Shareddrives/DFL/ws/\"+x+\"/\"\n",
        "M=D+m+z\n",
        "t=\"/content/drive/MyDrive/ws\"\n",
        "!mkdir \"$t\" \"$t/$x\" \"$t/$x/$m\"\n",
        "%cd /content/drive/Shareddrives/DFL/ws/$x/\n",
        "if model:\n",
        "  !7z x $M -o\"$t/$x/$m\" -mmt\n",
        "else:\n",
        "  !echo\n",
        "if data:\n",
        "  !7z x data.zip -o/content/ -mmt\n",
        "else:\n",
        "  !echo"
      ],
      "metadata": {
        "id": "fgWckE5QoNvS"
      },
      "execution_count": null,
      "outputs": []
    },
    {
      "cell_type": "markdown",
      "metadata": {
        "id": "pUL7SvRlij0E"
      },
      "source": [
        "# **Train**"
      ]
    },
    {
      "cell_type": "code",
      "source": [
        "m=\"dhan\"#@param {type:\"string\"}\n",
        "d=\"/content/drive/MyDrive/ws/\"+m+\"/model\"\n",
        "%cd /content\n",
        "cmd=\"DeepFaceLab/main.py train --training-data-src-dir data_src/aligned --training-data-dst-dir data_dst/aligned --model-dir \"+d+\" --model SAEHD \"\n",
        "cmd+=\" --config-training-file config/dhan0.yaml --saving-time 20 --silent-start \"\n",
        "!python $cmd"
      ],
      "metadata": {
        "id": "Evl7qf9lyM6i"
      },
      "execution_count": null,
      "outputs": []
    },
    {
      "cell_type": "code",
      "metadata": {
        "id": "Ksz-66MCj-I6"
      },
      "source": [
        "x = \"/content/drive/MyDrive/ws/\"\n",
        "y = \"ksn\" #@param {type:\"string\"}\n",
        "z = \"L\" #@param [\"\", \"D\", \"L\", \"A\"]\n",
        "m = \"\"+x+y+\"/model\"+z+\"\"\n",
        "t = \"/content\"\n",
        "print(y+\" \"+z)\n",
        "%cd \"/content/\"  \n",
        "z = \"DeepFaceLab/main.py train --training-data-src-dir \" +t+ \"/data_src/aligned --training-data-dst-dir \" +t+ \"/data_dst/aligned --pretraining-data-dir pretrain --model-dir \" +m+ \" --model SAEHD --silent-start \"\n",
        "cmd = (z)\n",
        "!python $cmd"
      ],
      "execution_count": null,
      "outputs": []
    },
    {
      "cell_type": "code",
      "metadata": {
        "id": "qIk4_t8ex7Fh"
      },
      "source": [
        ""
      ],
      "execution_count": null,
      "outputs": []
    },
    {
      "cell_type": "markdown",
      "source": [
        "# **Save**"
      ],
      "metadata": {
        "id": "yA9DPSQuMNI5"
      }
    },
    {
      "cell_type": "code",
      "source": [
        "import time\n",
        "x=\"dhan\" #@param {type:\"string\"} \n",
        "y=\"\" #@param [\"\", \"D\", \"L\", \"A\"] \n",
        "z=\".zip\"\n",
        "m=\"model\"+y+\"\"\n",
        "D=\"/content/drive/Shareddrives/DFL/ws/\"+x+\"/\"\n",
        "M=D+m+z\n",
        "H=D+\"history\"+y+z\n",
        "%cd /content/drive/MyDrive/ws/$x/$m\n",
        "!7z a -tzip $M *.txt *.jpg *.dat *npy  -mx0 -mmt\n",
        "!7z a -tzip $H -xr!*.txt -x!*.jpg -xr!*.dat -xr!*npy -mx0 -mmt\n",
        "time.sleep(3)\n",
        "%cd /content/drive/MyDrive/ws/$x\n",
        "!rm -r $m"
      ],
      "metadata": {
        "id": "1b3mL90e1gnQ"
      },
      "execution_count": null,
      "outputs": []
    }
  ]
}