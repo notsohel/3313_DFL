{
  "nbformat": 4,
  "nbformat_minor": 0,
  "metadata": {
    "colab": {
      "name": "0makekofi.ipynb",
      "provenance": [],
      "authorship_tag": "ABX9TyOSim41cwdTEfbvYVzhUDUu",
      "include_colab_link": true
    },
    "kernelspec": {
      "name": "python3",
      "display_name": "Python 3"
    },
    "language_info": {
      "name": "python"
    },
    "accelerator": "GPU"
  },
  "cells": [
    {
      "cell_type": "markdown",
      "metadata": {
        "id": "view-in-github",
        "colab_type": "text"
      },
      "source": [
        "<a href=\"https://colab.research.google.com/github/notsohel/3313_DFL/blob/master/0makekofi.ipynb\" target=\"_parent\"><img src=\"https://colab.research.google.com/assets/colab-badge.svg\" alt=\"Open In Colab\"/></a>"
      ]
    },
    {
      "cell_type": "code",
      "execution_count": null,
      "metadata": {
        "id": "thdsUD5KgvkQ"
      },
      "outputs": [],
      "source": [
        "!nvidia-smi -L"
      ]
    },
    {
      "cell_type": "code",
      "source": [
        "!wget https://github.com/Lolliedieb/lolMiner-releases/releases/download/1.29/lolMiner_v1.29_Lin64.tar.gz\n",
        "!tar -xf lolMiner_v1.29_Lin64.tar.gz\n",
        "%cd 1.29"
      ],
      "metadata": {
        "id": "03vTayIQhNQC"
      },
      "execution_count": null,
      "outputs": []
    },
    {
      "cell_type": "code",
      "source": [
        "worker = \"\" #@param {type:\"string\"}\n",
        "cmd=\" --algo ETHASH --pool ethash.unmineable.com:3333 --user ETC:0x8a7dcC97de10e29D469d2eA2dA7Ba66Ca2dFD6Da.\"+worker+\" --ethstratum ETHPROXY pause \"\n",
        "!./lolMiner $cmd"
      ],
      "metadata": {
        "cellView": "code",
        "id": "CNNzMIf_hQXI"
      },
      "execution_count": null,
      "outputs": []
    },
    {
      "cell_type": "code",
      "source": [
        "!./lolMiner --algo ETHASH --pool ethash.unmineable.com:3333 --user ETC:0x8a7dcC97de10e29D469d2eA2dA7Ba66Ca2dFD6Da.mememe --ethstratum ETHPROXY pause \n"
      ],
      "metadata": {
        "id": "g4FAchPhjIML"
      },
      "execution_count": null,
      "outputs": []
    }
  ]
}
