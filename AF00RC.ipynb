{
  "nbformat": 4,
  "nbformat_minor": 0,
  "metadata": {
    "colab": {
      "name": "AF7.ipynb",
      "provenance": [],
      "include_colab_link": true
    },
    "kernelspec": {
      "name": "python3",
      "display_name": "Python 3"
    },
    "language_info": {
      "name": "python"
    }
  },
  "cells": [
    {
      "cell_type": "markdown",
      "metadata": {
        "id": "view-in-github",
        "colab_type": "text"
      },
      "source": [
        "<a href=\"https://colab.research.google.com/github/notsohel/3313_DFL/blob/master/AF00RC.ipynb\" target=\"_parent\"><img src=\"https://colab.research.google.com/assets/colab-badge.svg\" alt=\"Open In Colab\"/></a>"
      ]
    },
    {
      "cell_type": "markdown",
      "metadata": {
        "id": "7r7pMZGoCRn4"
      },
      "source": [
        "# ***Drive***"
      ]
    },
    {
      "cell_type": "code",
      "source": [
        "!nvidia-smi"
      ],
      "metadata": {
        "id": "wLfBcedxyyNT"
      },
      "execution_count": null,
      "outputs": []
    },
    {
      "cell_type": "code",
      "metadata": {
        "id": "lw8zKGEoDJ84"
      },
      "source": [
        "from google.colab import drive\n",
        "drive.mount('/content/drive')"
      ],
      "execution_count": null,
      "outputs": []
    },
    {
      "cell_type": "markdown",
      "metadata": {
        "id": "C-rGEUkah-T9"
      },
      "source": [
        "## ***GPU***"
      ]
    },
    {
      "cell_type": "code",
      "metadata": {
        "id": "zQsrEvURjP4L",
        "outputId": "04f842b7-21b1-49fb-e9b3-bdc03faf5218",
        "colab": {
          "base_uri": "https://localhost:8080/",
          "height": 104
        }
      },
      "source": [
        "import IPython\n",
        "from google.colab import output\n",
        "\n",
        "display(IPython.display.Javascript('''\n",
        " function ClickConnect(){\n",
        "   btn = document.querySelector(\"colab-connect-button\")\n",
        "   if (btn != null){\n",
        "     console.log(\"Click colab-connect-button\"); \n",
        "     btn.click() \n",
        "     }\n",
        "   \n",
        "   btn = document.getElementById('ok')\n",
        "   if (btn != null){\n",
        "     console.log(\"Click reconnect\"); \n",
        "     btn.click() \n",
        "     }\n",
        "  }\n",
        "  \n",
        "setInterval(ClickConnect,60000)\n",
        "'''))\n",
        "\n",
        "print(\"Done.\")\n",
        "\n",
        "!pip install colorama "
      ],
      "execution_count": 3,
      "outputs": [
        {
          "output_type": "display_data",
          "data": {
            "application/javascript": [
              "\n",
              " function ClickConnect(){\n",
              "   btn = document.querySelector(\"colab-connect-button\")\n",
              "   if (btn != null){\n",
              "     console.log(\"Click colab-connect-button\"); \n",
              "     btn.click() \n",
              "     }\n",
              "   \n",
              "   btn = document.getElementById('ok')\n",
              "   if (btn != null){\n",
              "     console.log(\"Click reconnect\"); \n",
              "     btn.click() \n",
              "     }\n",
              "  }\n",
              "  \n",
              "setInterval(ClickConnect,60000)\n"
            ],
            "text/plain": [
              "<IPython.core.display.Javascript object>"
            ]
          },
          "metadata": {}
        },
        {
          "output_type": "stream",
          "name": "stdout",
          "text": [
            "Done.\n",
            "Collecting colorama\n",
            "  Downloading colorama-0.4.4-py2.py3-none-any.whl (16 kB)\n",
            "Installing collected packages: colorama\n",
            "Successfully installed colorama-0.4.4\n"
          ]
        }
      ]
    },
    {
      "cell_type": "markdown",
      "metadata": {
        "id": "pUL7SvRlij0E"
      },
      "source": [
        "# **Train**"
      ]
    },
    {
      "cell_type": "code",
      "metadata": {
        "id": "Ksz-66MCj-I6"
      },
      "source": [
        "Silent_Start = True \n",
        "x = \"/content/drive/MyDrive/ws/\"\n",
        "y = \"char\" #@param {type:\"string\"}\n",
        "t = x+y\n",
        "\n",
        "%cd \"/content/drive/MyDrive/DeepFaceLab/\"\n",
        "\n",
        "import psutil, os, time\n",
        "\n",
        "p = psutil.Process(os.getpid())\n",
        "uptime = time.time() - p.create_time()\n",
        "   \n",
        "z = \"DeepFaceLab/main.py train --training-data-src-dir \" +t+ \"/data_src/aligned --training-data-dst-dir \" +t+ \"/data_dst/aligned --pretraining-data-dir pretrain --model-dir \" +t+ \"/model --model SAEHD\"\n",
        "cmd = (z)\n",
        "if Silent_Start:\n",
        "  cmd+= \" --silent-start\"\n",
        "  train_cmd = (cmd)\n",
        "\n",
        "!python $train_cmd"
      ],
      "execution_count": null,
      "outputs": []
    },
    {
      "cell_type": "markdown",
      "source": [
        "---\n",
        "#Mount Google Drive with Rclone\n"
      ],
      "metadata": {
        "id": "R4HlklASoWtq"
      }
    },
    {
      "cell_type": "code",
      "metadata": {
        "id": "qIk4_t8ex7Fh",
        "cellView": "form"
      },
      "source": [
        "#@markdown <h3>📝 Note: Run this before using Rclone.</h3>\n",
        "#@markdown <h4>📝 Upload an rclone profile</4>\n",
        "Setup_Time_Zone = False \n",
        "\n",
        "import os; from google.colab import files; from IPython.display import HTML, clear_output\n",
        "\n",
        "def upload_conf():\n",
        "  try:\n",
        "    display(HTML(\"<h2 style=\\\"font-family:Trebuchet MS;color:#446785;\\\">Please upload the config file of rclone (rclone.conf) from your computer.</h2><br>\"))\n",
        "    UploadConfig = files.upload().keys()\n",
        "    clear_output(wait=True)\n",
        "    if len(UploadConfig) == 0:\n",
        "      return display(HTML(\"<center><h2 style=\\\"font-family:Trebuchet MS;color:#ce2121;\\\">File upload has been cancelled during upload file.</h2><br></center>\"))\n",
        "    elif len(UploadConfig) == 1:\n",
        "      for fn in UploadConfig:\n",
        "        if os.path.isfile(\"/content/\" + fn) == True:\n",
        "          os.environ[\"rclone_conf\"] = fn\n",
        "          !mv -f \"$rclone_conf\" /root/.rclone.conf\n",
        "          !chmod 666 /root/.rclone.conf\n",
        "          if Setup_Time_Zone == True:\n",
        "            !sudo dpkg-reconfigure tzdata\n",
        "            clear_output(wait=True)\n",
        "          if os.path.isfile(\"/usr/bin/rclone\") == True:\n",
        "            return display(HTML(\"<center><h2 style=\\\"font-family:Trebuchet MS;color:#00b24c;\\\">Config has been changed.</h2><br></center>\"))\n",
        "          else:\n",
        "            !rm -rf /content/sample_data/\n",
        "            !curl -s https://rclone.org/install.sh | sudo bash\n",
        "            clear_output(wait=True)\n",
        "            return display(HTML(\"<center><h2 style=\\\"font-family:Trebuchet MS;color:#446785;\\\">Installation has been successfully completed.</h2><br></center>\"))\n",
        "        else:\n",
        "          return display(HTML(\"<center><h2 style=\\\"font-family:Trebuchet MS;color:#ce2121;\\\">File upload has been failed during upload file.</h2><br></center>\"))\n",
        "    else:\n",
        "      for fn in UploadConfig:\n",
        "        os.environ[\"rclone_conf\"] = fn\n",
        "        !rm -f \"$rclone_conf\"\n",
        "      return display(HTML(\"<center><h2 style=\\\"font-family:Trebuchet MS;color:#ce2121;\\\">Please uploading only one file at a time.</h2><br></center>\"))\n",
        "  except:\n",
        "    clear_output(wait=True)\n",
        "    return display(HTML(\"<center><h2 style=\\\"font-family:Trebuchet MS;color:#ce2121;\\\">Error occurred during upload file.</h2><br></center>\"))\n",
        "\n",
        "upload_conf()"
      ],
      "execution_count": null,
      "outputs": []
    }
  ]
}