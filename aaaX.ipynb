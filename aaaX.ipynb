{
  "nbformat": 4,
  "nbformat_minor": 0,
  "metadata": {
    "colab": {
      "name": "AF7.ipynb",
      "provenance": [],
      "include_colab_link": true
    },
    "kernelspec": {
      "name": "python3",
      "display_name": "Python 3"
    },
    "language_info": {
      "name": "python"
    },
    "accelerator": "GPU"
  },
  "cells": [
    {
      "cell_type": "markdown",
      "metadata": {
        "id": "view-in-github",
        "colab_type": "text"
      },
      "source": [
        "<a href=\"https://colab.research.google.com/github/notsohel/3313_DFL/blob/master/aaaX.ipynb\" target=\"_parent\"><img src=\"https://colab.research.google.com/assets/colab-badge.svg\" alt=\"Open In Colab\"/></a>"
      ]
    },
    {
      "cell_type": "markdown",
      "metadata": {
        "id": "7r7pMZGoCRn4"
      },
      "source": [
        "# ***Drive***"
      ]
    },
    {
      "cell_type": "code",
      "source": [
        "!nvidia-smi"
      ],
      "metadata": {
        "id": "wLfBcedxyyNT"
      },
      "execution_count": null,
      "outputs": []
    },
    {
      "cell_type": "code",
      "metadata": {
        "id": "lw8zKGEoDJ84"
      },
      "source": [
        "from google.colab import drive\n",
        "drive.mount('/content/drive')"
      ],
      "execution_count": null,
      "outputs": []
    },
    {
      "cell_type": "markdown",
      "metadata": {
        "id": "C-rGEUkah-T9"
      },
      "source": [
        "## ***GPU***"
      ]
    },
    {
      "cell_type": "code",
      "metadata": {
        "id": "zQsrEvURjP4L"
      },
      "source": [
        "import IPython\n",
        "from google.colab import output\n",
        "\n",
        "display(IPython.display.Javascript('''\n",
        " function ClickConnect(){\n",
        "   btn = document.querySelector(\"colab-connect-button\")\n",
        "   if (btn != null){\n",
        "     console.log(\"Click colab-connect-button\"); \n",
        "     btn.click() \n",
        "     }\n",
        "   \n",
        "   btn = document.getElementById('ok')\n",
        "   if (btn != null){\n",
        "     console.log(\"Click reconnect\"); \n",
        "     btn.click() \n",
        "     }\n",
        "  }\n",
        "  \n",
        "setInterval(ClickConnect,60000)\n",
        "'''))\n",
        "\n",
        "print(\"Done.\")\n",
        "\n",
        "!pip install colorama "
      ],
      "execution_count": null,
      "outputs": []
    },
    {
      "cell_type": "markdown",
      "metadata": {
        "id": "pUL7SvRlij0E"
      },
      "source": [
        "# **Train**"
      ]
    },
    {
      "cell_type": "code",
      "metadata": {
        "id": "Ksz-66MCj-I6"
      },
      "source": [
        "Silent_Start = True \n",
        "x = \"/content/drive/MyDrive/ws/\"\n",
        "y = \"badam\" #@param {type:\"string\"}\n",
        "t = x+y\n",
        "\n",
        "%cd \"/content/drive/MyDrive/\"\n",
        "\n",
        "import psutil, os, time\n",
        "\n",
        "p = psutil.Process(os.getpid())\n",
        "uptime = time.time() - p.create_time()\n",
        "   \n",
        "z = \"DeepFaceLab/main.py train --training-data-src-dir \" +t+ \"/data_src/aligned --training-data-dst-dir \" +t+ \"/data_dst/aligned --pretraining-data-dir pretrain --model-dir \" +t+ \"/model --model SAEHD\"\n",
        "cmd = (z)\n",
        "if Silent_Start:\n",
        "  cmd+= \" --silent-start\"\n",
        "  train_cmd = (cmd)\n",
        "\n",
        "!python $train_cmd"
      ],
      "execution_count": null,
      "outputs": []
    },
    {
      "cell_type": "code",
      "metadata": {
        "id": "qIk4_t8ex7Fh"
      },
      "source": [
        ""
      ],
      "execution_count": null,
      "outputs": []
    },
    {
      "cell_type": "markdown",
      "source": [
        "# **Setup**"
      ],
      "metadata": {
        "id": "tt8Slk-dhSlJ"
      }
    },
    {
      "cell_type": "code",
      "source": [
        "!unzip /content/drive/Shareddrives/DFL/dfl.zip -d /content/drive/MyDrive/"
      ],
      "metadata": {
        "id": "pEwGWwcCoP0G"
      },
      "execution_count": null,
      "outputs": []
    },
    {
      "cell_type": "code",
      "source": [
        "!mkdir /content/drive/MyDrive/ws /content/drive/MyDrive/ws/badam /content/drive/MyDrive/ws/badam/model\n",
        "%cd /content/drive/Shareddrives/DFL/ws/alia\n",
        "!cp -r data_dst data_src /content/drive/MyDrive/ws/badam\n",
        "%cd /content/drive/Shareddrives/DFL/ws/alia/model\n",
        "!cp -r model/*.npy model/*.dat -t /content/drive/MyDrive/ws/badam/model/"
      ],
      "metadata": {
        "id": "fgWckE5QoNvS"
      },
      "execution_count": null,
      "outputs": []
    }
  ]
}