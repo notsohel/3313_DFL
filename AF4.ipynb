{
  "nbformat": 4,
  "nbformat_minor": 0,
  "metadata": {
    "colab": {
      "name": "AndroidFake.ipynb",
      "provenance": [],
      "include_colab_link": true
    },
    "kernelspec": {
      "name": "python3",
      "display_name": "Python 3"
    },
    "language_info": {
      "name": "python"
    },
    "accelerator": "GPU"
  },
  "cells": [
    {
      "cell_type": "markdown",
      "metadata": {
        "id": "view-in-github",
        "colab_type": "text"
      },
      "source": [
        "<a href=\"https://colab.research.google.com/github/notsohel/3313_DFL/blob/master/AF4.ipynb\" target=\"_parent\"><img src=\"https://colab.research.google.com/assets/colab-badge.svg\" alt=\"Open In Colab\"/></a>"
      ]
    },
    {
      "cell_type": "markdown",
      "metadata": {
        "id": "C-rGEUkah-T9"
      },
      "source": [
        "# ***GPU***"
      ]
    },
    {
      "cell_type": "code",
      "metadata": {
        "id": "zQsrEvURjP4L"
      },
      "source": [
        "import IPython\n",
        "from google.colab import output\n",
        "\n",
        "display(IPython.display.Javascript('''\n",
        " function ClickConnect(){\n",
        "   btn = document.querySelector(\"colab-connect-button\")\n",
        "   if (btn != null){\n",
        "     console.log(\"Click colab-connect-button\"); \n",
        "     btn.click() \n",
        "     }\n",
        "   \n",
        "   btn = document.getElementById('ok')\n",
        "   if (btn != null){\n",
        "     console.log(\"Click reconnect\"); \n",
        "     btn.click() \n",
        "     }\n",
        "  }\n",
        "  \n",
        "setInterval(ClickConnect,60000)\n",
        "'''))\n",
        "\n",
        "print(\"Done.\")\n",
        "\n",
        "!nvidia-smi"
      ],
      "execution_count": null,
      "outputs": []
    },
    {
      "cell_type": "markdown",
      "metadata": {
        "id": "7r7pMZGoCRn4"
      },
      "source": [
        "# ***Drive***"
      ]
    },
    {
      "cell_type": "code",
      "metadata": {
        "id": "dQywuZBFCXBw"
      },
      "source": [
        "from google.colab import drive\n",
        "drive.mount('/content/drive')"
      ],
      "execution_count": null,
      "outputs": []
    },
    {
      "cell_type": "markdown",
      "metadata": {
        "id": "u8gT-3mNiKZ1"
      },
      "source": [
        "# **Install**"
      ]
    },
    {
      "cell_type": "code",
      "metadata": {
        "id": "JG-f2WqT4fLK"
      },
      "source": [
        "!pip install colorama "
      ],
      "execution_count": null,
      "outputs": []
    },
    {
      "cell_type": "markdown",
      "metadata": {
        "id": "pUL7SvRlij0E"
      },
      "source": [
        "# **Train**"
      ]
    },
    {
      "cell_type": "code",
      "metadata": {
        "id": "Ksz-66MCj-I6"
      },
      "source": [
        "Model = \"SAEHD\" \n",
        "Silent_Start = True \n",
        "\n",
        "%cd \"/content/drive/Shareddrives/Derp3313/DeepFaceLab/_internal\"\n",
        "\n",
        "import psutil, os, time\n",
        "\n",
        "p = psutil.Process(os.getpid())\n",
        "uptime = time.time() - p.create_time()\n",
        "   \n",
        "cmd = \"DeepFaceLab/main.py train --training-data-src-dir /content/drive/Shareddrives/Derp3313/workspace/data_src/aligned --training-data-dst-dir /content/drive/Shareddrives/Derp3313/workspace/data_dst/aligned --pretraining-data-dir pretrain --model-dir /content/drive/Shareddrives/Derp3313/workspace/model --model \"+Model\n",
        "\n",
        "if Silent_Start:\n",
        "  cmd+= \" --silent-start\"\n",
        "  train_cmd = (cmd)\n",
        "\n",
        "!python $train_cmd"
      ],
      "execution_count": null,
      "outputs": []
    },
    {
      "cell_type": "markdown",
      "metadata": {
        "id": "8nlOeObPio0c"
      },
      "source": [
        "# **Backup**"
      ]
    },
    {
      "cell_type": "code",
      "metadata": {
        "id": "OSSPOwX2kfSZ"
      },
      "source": [
        "#model\n",
        "!zip -r /content/drive/Shareddrives/Derp3313/MBackup/model.zip  /content/drive/Shareddrives/Derp3313/workspace/model"
      ],
      "execution_count": null,
      "outputs": []
    },
    {
      "cell_type": "code",
      "metadata": {
        "id": "TVD5rU5i4W1z"
      },
      "source": [
        "#workspace\n",
        "!zip -r /content/drive/Shareddrives/Derp3313/Backup_workspace/workspace.zip  /content/drive/Shareddrives/Derp3313/workspace/"
      ],
      "execution_count": null,
      "outputs": []
    }
  ]
}